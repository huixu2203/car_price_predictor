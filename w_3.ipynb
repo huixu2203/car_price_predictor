{
 "cells": [
  {
   "cell_type": "code",
   "execution_count": 1,
   "id": "8dc2afaf",
   "metadata": {},
   "outputs": [],
   "source": [
    "import pickle\n",
    "import numpy as np\n",
    "\n",
    "import pandas as pd\n",
    "import numpy as np\n",
    "\n",
    "import mysql.connector as sql\n",
    "from mysql.connector import Error\n",
    "\n",
    "import matplotlib.pyplot as plt\n",
    "\n",
    "from sklearn.base import BaseEstimator"
   ]
  },
  {
   "cell_type": "code",
   "execution_count": null,
   "id": "aad19d1e",
   "metadata": {},
   "outputs": [],
   "source": [
    "connection =  sql.connect(\n",
    " host=\"localhost\",\n",
    " user =\"karan\",\n",
    " password= \"Karan@1414\",\n",
    " database = \"database\"\n",
    " )\n",
    "print(connection)\n",
    "cursor = connection.cursor(prepared=True)"
   ]
  },
  {
   "cell_type": "markdown",
   "id": "d3af0b3c",
   "metadata": {},
   "source": [
    "# Analysis of the model made :"
   ]
  },
  {
   "cell_type": "markdown",
   "id": "b0654576",
   "metadata": {},
   "source": [
    "### Defining the function :"
   ]
  },
  {
   "cell_type": "code",
   "execution_count": 2,
   "id": "13c5ffa9",
   "metadata": {},
   "outputs": [],
   "source": [
    "# Define a custom ensemble model that clusters the data based on the mm column and trains an XGBoost model for each cluster\n",
    "\n",
    "class MmEnsembleModel(BaseEstimator):\n",
    "    def __init__(self):\n",
    "        self.models = {}\n",
    "\n",
    "    def fit(self, X, y):\n",
    "        # Train an XGBoost model for each mm\n",
    "        for mm in X['mm'].unique():\n",
    "            # Filter the training data for the current mm\n",
    "            X_train_mm = X.loc[X['mm'] == mm, ['year', 'listing_mileage']]\n",
    "\n",
    "            y_train_mm = y[X['mm'] == mm]\n",
    "\n",
    "            # Create and train the XGBoost model\n",
    "            model = XGBRegressor(max_depth=3, learning_rate=0.1, n_estimators=100)\n",
    "            model.fit(X_train_mm, y_train_mm)\n",
    "\n",
    "            # Store the trained model in the dictionary\n",
    "            self.models[mm] = model\n",
    "\n",
    "        return self\n",
    "\n",
    "    \n",
    "    def predict(self, X):\n",
    "        # Make predictions using the trained models\n",
    "        y_pred = []\n",
    "        for i, row in X.iterrows():\n",
    "            # Get the mm for the current row\n",
    "            mm = row['mm']\n",
    "            \n",
    "            # Use the corresponding model to make a prediction\n",
    "            pred = self.models[mm].predict(row[['year', 'listing_mileage']].values.reshape(1, -1))\n",
    "\n",
    "            \n",
    "            # Append the prediction to the list of predictions\n",
    "            y_pred.append(pred[0])\n",
    "        \n",
    "        return y_pred\n",
    "    \n"
   ]
  },
  {
   "cell_type": "markdown",
   "id": "6f79745b",
   "metadata": {},
   "source": [
    "### Importing the models:\n",
    "\n",
    "model_non_rare -> vehicles having count >= 100 in the dataset\n",
    "\n",
    "model_rare -> vehicles having count < 100 in the dataset"
   ]
  },
  {
   "cell_type": "code",
   "execution_count": 3,
   "id": "de071180",
   "metadata": {},
   "outputs": [],
   "source": [
    "model_non_rare = pickle.load(open('pipe_non_rare.pkl','rb'))\n",
    "model_rare = pickle.load(open('pipe_rare.pkl','rb'))"
   ]
  },
  {
   "cell_type": "markdown",
   "id": "4358c65e",
   "metadata": {},
   "source": [
    "### visualising data for hyundai elantra :"
   ]
  },
  {
   "cell_type": "code",
   "execution_count": null,
   "id": "72b7bf2a",
   "metadata": {},
   "outputs": [],
   "source": [
    "df['cluster'].nunique()"
   ]
  },
  {
   "cell_type": "code",
   "execution_count": null,
   "id": "d6c368fa",
   "metadata": {
    "scrolled": true
   },
   "outputs": [],
   "source": [
    "dt = pd.read_csv('data2.csv')\n",
    "dt = dt.drop('Unnamed: 0',axis=1)\n",
    "dt[dt['mm']=='Hyundai Elantra']"
   ]
  },
  {
   "cell_type": "code",
   "execution_count": null,
   "id": "71c37398",
   "metadata": {
    "scrolled": false
   },
   "outputs": [],
   "source": [
    "dt = dt[dt['cluster']==1194]"
   ]
  },
  {
   "cell_type": "code",
   "execution_count": null,
   "id": "cd68a367",
   "metadata": {
    "scrolled": true
   },
   "outputs": [],
   "source": [
    "dt.head(200)"
   ]
  },
  {
   "cell_type": "code",
   "execution_count": null,
   "id": "fbd945cf",
   "metadata": {},
   "outputs": [],
   "source": [
    "gh = dt[['year','listing_mileage','listing_price','mm']]"
   ]
  },
  {
   "cell_type": "code",
   "execution_count": null,
   "id": "db4a4e9e",
   "metadata": {},
   "outputs": [],
   "source": [
    "x= gh.drop('listing_price',axis = 1)"
   ]
  },
  {
   "cell_type": "code",
   "execution_count": null,
   "id": "3fd408f2",
   "metadata": {},
   "outputs": [],
   "source": [
    "y = gh['listing_price']"
   ]
  },
  {
   "cell_type": "code",
   "execution_count": null,
   "id": "e214cc3b",
   "metadata": {},
   "outputs": [],
   "source": [
    "y_pred = model_non_rare.predict(x)"
   ]
  },
  {
   "cell_type": "code",
   "execution_count": null,
   "id": "037ab034",
   "metadata": {},
   "outputs": [],
   "source": [
    "xp = x['listing_mileage']"
   ]
  },
  {
   "cell_type": "code",
   "execution_count": null,
   "id": "04795649",
   "metadata": {},
   "outputs": [],
   "source": [
    "fig, ax = plt.subplots(figsize=(12, 9))\n",
    "ax.plot(xp, y, linestyle='', marker='o', markersize=10, markeredgewidth=1, markerfacecolor='none', markeredgecolor='olivedrab', label='y',alpha = 0.2)\n",
    "ax.plot(xp, y_pred, linestyle='', marker='o', markersize=10, markeredgewidth=1.5, markerfacecolor='none', markeredgecolor='brown', label='y_pred',alpha = 0.2)\n",
    "\n",
    "# Add axis labels and a title\n",
    "plt.xlabel('x')\n",
    "plt.ylabel('y')\n",
    "plt.title('y and y_pred vs x')\n",
    "\n",
    "plt.legend()\n",
    "plt.show()"
   ]
  },
  {
   "cell_type": "code",
   "execution_count": null,
   "id": "db86aea7",
   "metadata": {},
   "outputs": [],
   "source": [
    "\n",
    "from sklearn.metrics import mean_squared_error, mean_absolute_error, r2_score"
   ]
  },
  {
   "cell_type": "code",
   "execution_count": null,
   "id": "3033d9a7",
   "metadata": {},
   "outputs": [],
   "source": [
    "r2 = r2_score(y, y_pred)\n",
    "r2"
   ]
  },
  {
   "cell_type": "markdown",
   "id": "e71a38b9",
   "metadata": {},
   "source": [
    "### according to year, mm getting cluster:"
   ]
  },
  {
   "cell_type": "code",
   "execution_count": 4,
   "id": "586ff160",
   "metadata": {},
   "outputs": [],
   "source": [
    "year = [2020]\n",
    "mm = ['Toyota Camry']\n",
    "mileage = [65273]\n",
    "\n",
    "# Create a dictionary with the column names as keys and the variable values as values\n",
    "data = {'year': year, 'listing_mileage': mileage, 'mm': mm}\n",
    "\n",
    "# Create a DataFrame from the dictionary\n",
    "dft = pd.DataFrame(data)"
   ]
  },
  {
   "cell_type": "code",
   "execution_count": 5,
   "id": "26b96ae0",
   "metadata": {},
   "outputs": [],
   "source": [
    "mm_value = mm[0]\n",
    "year_value = year[0]"
   ]
  },
  {
   "cell_type": "markdown",
   "id": "fdd50d60",
   "metadata": {},
   "source": [
    "### query to get the cluster of mm"
   ]
  },
  {
   "cell_type": "code",
   "execution_count": 6,
   "id": "01140da2",
   "metadata": {},
   "outputs": [
    {
     "name": "stdout",
     "output_type": "stream",
     "text": [
      "The cluster value for 'Toyota Camry' is: 2383\n"
     ]
    }
   ],
   "source": [
    "    # Read data from CSV file\n",
    "    df = pd.read_csv('data3.csv')\n",
    "\n",
    "    # Filter rows with the specified mm value\n",
    "    df = df[df['mm'] == mm_value]\n",
    "\n",
    "    # Get the cluster value\n",
    "    cluster_value = df['cluster'].iloc[0]\n",
    "\n",
    "    print(f\"The cluster value for '{mm_value}' is: {cluster_value}\")\n"
   ]
  },
  {
   "cell_type": "markdown",
   "id": "d155cd61",
   "metadata": {},
   "source": [
    "#### predicting listing price:"
   ]
  },
  {
   "cell_type": "code",
   "execution_count": 7,
   "id": "21518c84",
   "metadata": {},
   "outputs": [],
   "source": [
    "if cluster_value == 2618:\n",
    "    \n",
    "    prd_price = model_rare.predict(dft)\n",
    "else:\n",
    "    prd_price = model_non_rare.predict(dft)\n",
    "    \n",
    "    \n"
   ]
  },
  {
   "cell_type": "code",
   "execution_count": 8,
   "id": "cce7284b",
   "metadata": {},
   "outputs": [
    {
     "name": "stdout",
     "output_type": "stream",
     "text": [
      "[27114.393]\n"
     ]
    }
   ],
   "source": [
    "print(prd_price)"
   ]
  },
  {
   "cell_type": "code",
   "execution_count": 9,
   "id": "c49820e3",
   "metadata": {},
   "outputs": [
    {
     "name": "stdout",
     "output_type": "stream",
     "text": [
      "<class 'list'>\n"
     ]
    }
   ],
   "source": [
    "print(type(prd_price))"
   ]
  },
  {
   "cell_type": "markdown",
   "id": "6c0acfd1",
   "metadata": {},
   "source": [
    "### function to get the top 100 realated data according to our target data predicted"
   ]
  },
  {
   "cell_type": "code",
   "execution_count": 10,
   "id": "aa5be5a7",
   "metadata": {},
   "outputs": [],
   "source": [
    "def get_similar_rows(year, mm, cluster_value):\n",
    "    # Read data from CSV file\n",
    "    df = pd.read_csv('data3.csv')\n",
    "    \n",
    "    n = 100\n",
    "    if cluster_value == 2618:\n",
    "        # Filter rows with the specified mm and cluster values\n",
    "        df = df[(df['mm'] == mm) & (df['cluster'] == cluster_value)]\n",
    "        return df\n",
    "    else:\n",
    "        # Filter rows with the specified mm and years in the specified range\n",
    "        min_year = 1980\n",
    "        max_year = 2025\n",
    "        df = df[(df['mm'] == mm) & (df['year'] >= min_year) & (df['year'] <= max_year)]\n",
    "        \n",
    "        # Sort rows by the absolute difference between year and the specified year\n",
    "        df['year_diff'] = (df['year'] - year).abs()\n",
    "        df = df.sort_values('year_diff')\n",
    "        \n",
    "        # Select the first n rows\n",
    "        df = df.head(n)\n",
    "        \n",
    "        # Select the desired columns\n",
    "        df = df[['year', 'mm', 'listing_mileage', 'listing_price']]\n",
    "        \n",
    "        # Convert columns to the desired data types and formats\n",
    "        df['listing_mileage'] = df['listing_mileage'].astype(int)\n",
    "        df['listing_price'] = df['listing_price'].astype(int)\n",
    "        \n",
    "        df['listing_mileage'] = df['listing_mileage'].astype(str)\n",
    "        df['listing_price'] = df['listing_price'].astype(str)\n",
    "        \n",
    "        df['listing_mileage'] =  df['listing_mileage'] + ' miles'\n",
    "        df['listing_price'] = '$' + df['listing_price']\n",
    "        print(df)\n",
    "        return df\n",
    "\n",
    "\n",
    "\n"
   ]
  },
  {
   "cell_type": "code",
   "execution_count": 11,
   "id": "4e4d0a4a",
   "metadata": {},
   "outputs": [
    {
     "name": "stdout",
     "output_type": "stream",
     "text": [
      "         year            mm listing_mileage listing_price\n",
      "3797725  2020  Toyota Camry     61499 miles        $26998\n",
      "3745077  2020  Toyota Camry     21515 miles        $30053\n",
      "3851965  2020  Toyota Camry     59959 miles        $27998\n",
      "3752658  2020  Toyota Camry     34430 miles        $30000\n",
      "3745087  2020  Toyota Camry      6615 miles        $34989\n",
      "...       ...           ...             ...           ...\n",
      "3767136  2020  Toyota Camry     31753 miles        $35999\n",
      "3860444  2020  Toyota Camry     33908 miles        $27991\n",
      "3860445  2020  Toyota Camry     28231 miles        $29998\n",
      "3767149  2020  Toyota Camry     10389 miles        $33470\n",
      "3745285  2020  Toyota Camry     25079 miles        $32441\n",
      "\n",
      "[100 rows x 4 columns]\n"
     ]
    },
    {
     "data": {
      "text/html": [
       "<div>\n",
       "<style scoped>\n",
       "    .dataframe tbody tr th:only-of-type {\n",
       "        vertical-align: middle;\n",
       "    }\n",
       "\n",
       "    .dataframe tbody tr th {\n",
       "        vertical-align: top;\n",
       "    }\n",
       "\n",
       "    .dataframe thead th {\n",
       "        text-align: right;\n",
       "    }\n",
       "</style>\n",
       "<table border=\"1\" class=\"dataframe\">\n",
       "  <thead>\n",
       "    <tr style=\"text-align: right;\">\n",
       "      <th></th>\n",
       "      <th>year</th>\n",
       "      <th>mm</th>\n",
       "      <th>listing_mileage</th>\n",
       "      <th>listing_price</th>\n",
       "    </tr>\n",
       "  </thead>\n",
       "  <tbody>\n",
       "    <tr>\n",
       "      <th>3797725</th>\n",
       "      <td>2020</td>\n",
       "      <td>Toyota Camry</td>\n",
       "      <td>61499 miles</td>\n",
       "      <td>$26998</td>\n",
       "    </tr>\n",
       "    <tr>\n",
       "      <th>3745077</th>\n",
       "      <td>2020</td>\n",
       "      <td>Toyota Camry</td>\n",
       "      <td>21515 miles</td>\n",
       "      <td>$30053</td>\n",
       "    </tr>\n",
       "    <tr>\n",
       "      <th>3851965</th>\n",
       "      <td>2020</td>\n",
       "      <td>Toyota Camry</td>\n",
       "      <td>59959 miles</td>\n",
       "      <td>$27998</td>\n",
       "    </tr>\n",
       "    <tr>\n",
       "      <th>3752658</th>\n",
       "      <td>2020</td>\n",
       "      <td>Toyota Camry</td>\n",
       "      <td>34430 miles</td>\n",
       "      <td>$30000</td>\n",
       "    </tr>\n",
       "    <tr>\n",
       "      <th>3745087</th>\n",
       "      <td>2020</td>\n",
       "      <td>Toyota Camry</td>\n",
       "      <td>6615 miles</td>\n",
       "      <td>$34989</td>\n",
       "    </tr>\n",
       "    <tr>\n",
       "      <th>...</th>\n",
       "      <td>...</td>\n",
       "      <td>...</td>\n",
       "      <td>...</td>\n",
       "      <td>...</td>\n",
       "    </tr>\n",
       "    <tr>\n",
       "      <th>3767136</th>\n",
       "      <td>2020</td>\n",
       "      <td>Toyota Camry</td>\n",
       "      <td>31753 miles</td>\n",
       "      <td>$35999</td>\n",
       "    </tr>\n",
       "    <tr>\n",
       "      <th>3860444</th>\n",
       "      <td>2020</td>\n",
       "      <td>Toyota Camry</td>\n",
       "      <td>33908 miles</td>\n",
       "      <td>$27991</td>\n",
       "    </tr>\n",
       "    <tr>\n",
       "      <th>3860445</th>\n",
       "      <td>2020</td>\n",
       "      <td>Toyota Camry</td>\n",
       "      <td>28231 miles</td>\n",
       "      <td>$29998</td>\n",
       "    </tr>\n",
       "    <tr>\n",
       "      <th>3767149</th>\n",
       "      <td>2020</td>\n",
       "      <td>Toyota Camry</td>\n",
       "      <td>10389 miles</td>\n",
       "      <td>$33470</td>\n",
       "    </tr>\n",
       "    <tr>\n",
       "      <th>3745285</th>\n",
       "      <td>2020</td>\n",
       "      <td>Toyota Camry</td>\n",
       "      <td>25079 miles</td>\n",
       "      <td>$32441</td>\n",
       "    </tr>\n",
       "  </tbody>\n",
       "</table>\n",
       "<p>100 rows × 4 columns</p>\n",
       "</div>"
      ],
      "text/plain": [
       "         year            mm listing_mileage listing_price\n",
       "3797725  2020  Toyota Camry     61499 miles        $26998\n",
       "3745077  2020  Toyota Camry     21515 miles        $30053\n",
       "3851965  2020  Toyota Camry     59959 miles        $27998\n",
       "3752658  2020  Toyota Camry     34430 miles        $30000\n",
       "3745087  2020  Toyota Camry      6615 miles        $34989\n",
       "...       ...           ...             ...           ...\n",
       "3767136  2020  Toyota Camry     31753 miles        $35999\n",
       "3860444  2020  Toyota Camry     33908 miles        $27991\n",
       "3860445  2020  Toyota Camry     28231 miles        $29998\n",
       "3767149  2020  Toyota Camry     10389 miles        $33470\n",
       "3745285  2020  Toyota Camry     25079 miles        $32441\n",
       "\n",
       "[100 rows x 4 columns]"
      ]
     },
     "execution_count": 11,
     "metadata": {},
     "output_type": "execute_result"
    }
   ],
   "source": [
    "# Example usage\n",
    "gh = get_similar_rows(year_value,mm_value,cluster_value)\n",
    "gh"
   ]
  },
  {
   "cell_type": "markdown",
   "id": "e2c9cc2f",
   "metadata": {},
   "source": [
    "### Checking for one rare model:"
   ]
  },
  {
   "cell_type": "code",
   "execution_count": null,
   "id": "e0a07620",
   "metadata": {},
   "outputs": [],
   "source": [
    "import mysql.connector\n",
    "cnx = mysql.connector.connect(\n",
    "    host=\"localhost\",\n",
    "    user=\"karan\",\n",
    "    password=\"Karan@1414\",\n",
    "    database=\"database\"\n",
    ")\n",
    "\n",
    "# Create a query to fetch all rows from the table\n",
    "query = \"SELECT * FROM data2 where cluster = 2618\"\n",
    "\n",
    "# Execute the query and store the result in a DataFrame\n",
    "df2 = pd.read_sql(query, cnx)\n",
    "\n",
    "# Close the connection\n",
    "cnx.close()\n",
    "df2 = df2.drop('s_no', axis = 1)"
   ]
  },
  {
   "cell_type": "code",
   "execution_count": null,
   "id": "513777d9",
   "metadata": {},
   "outputs": [],
   "source": [
    "gh = df2\n",
    "gh"
   ]
  },
  {
   "cell_type": "code",
   "execution_count": null,
   "id": "3015d9a9",
   "metadata": {},
   "outputs": [],
   "source": [
    "mm_value = 'Forest River TOYHAULER VISION 31093400'\n",
    "year_value = 2005"
   ]
  },
  {
   "cell_type": "code",
   "execution_count": null,
   "id": "664142a8",
   "metadata": {},
   "outputs": [],
   "source": [
    "query = \"SELECT cluster FROM data2 WHERE mm = %s\"\n",
    "cursor.execute(query, (mm_value,))\n",
    "\n",
    "result = cursor.fetchall()\n",
    "\n",
    "cluster_value = result[0][0]\n",
    "print(f\"The cluster value for'{mm_value}' is: {cluster_value}\")\n"
   ]
  },
  {
   "cell_type": "code",
   "execution_count": null,
   "id": "d00de628",
   "metadata": {},
   "outputs": [],
   "source": [
    "gh = get_similar_rows(year_value,mm_value,cluster_value)"
   ]
  },
  {
   "cell_type": "code",
   "execution_count": null,
   "id": "df5a833a",
   "metadata": {},
   "outputs": [],
   "source": [
    "data = [['2005','52377','Forest River TOYHAULER VISION 31093400']]\n",
    "columns = ['year', 'listing_mileage', 'mm']\n",
    "\n",
    "dt_r = pd.DataFrame(data, columns=columns)\n",
    "\n",
    "\n",
    "model_rare.predict(dt_r)"
   ]
  },
  {
   "cell_type": "code",
   "execution_count": null,
   "id": "e4c3c1ba",
   "metadata": {},
   "outputs": [],
   "source": []
  }
 ],
 "metadata": {
  "kernelspec": {
   "display_name": "Python 3 (ipykernel)",
   "language": "python",
   "name": "python3"
  },
  "language_info": {
   "codemirror_mode": {
    "name": "ipython",
    "version": 3
   },
   "file_extension": ".py",
   "mimetype": "text/x-python",
   "name": "python",
   "nbconvert_exporter": "python",
   "pygments_lexer": "ipython3",
   "version": "3.8.3"
  }
 },
 "nbformat": 4,
 "nbformat_minor": 5
}
